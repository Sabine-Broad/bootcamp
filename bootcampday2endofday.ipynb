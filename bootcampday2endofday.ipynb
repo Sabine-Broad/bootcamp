{
 "cells": [
  {
   "cell_type": "code",
   "execution_count": 11,
   "metadata": {},
   "outputs": [],
   "source": [
    "import numpy as py\n",
    "import pandas as pd\n",
    "from taigapy import create_taiga_client_v3"
   ]
  },
  {
   "cell_type": "code",
   "execution_count": 12,
   "metadata": {},
   "outputs": [],
   "source": [
    "tc= create_taiga_client_v3()"
   ]
  },
  {
   "cell_type": "code",
   "execution_count": 13,
   "metadata": {},
   "outputs": [
    {
     "name": "stderr",
     "output_type": "stream",
     "text": [
      "[                      ]  0% |   0.0 s/B |   0.0 B /   8.1 MiB | ETA:  --:--:--\n",
      "[###########       ] 61% |  72.5 MiB/s |   5.0 MiB /   8.1 MiB | ETA:   0:00:00\n",
      "[##################]100% |  14.3 MiB/s |   8.1 MiB /   8.1 MiB | Time:  0:00:00\n"
     ]
    }
   ],
   "source": [
    "flights = tc.get('nycflights-2013-b1ae.1/flights')"
   ]
  }
 ],
 "metadata": {
  "kernelspec": {
   "display_name": "bootcamp",
   "language": "python",
   "name": "python3"
  },
  "language_info": {
   "codemirror_mode": {
    "name": "ipython",
    "version": 3
   },
   "file_extension": ".py",
   "mimetype": "text/x-python",
   "name": "python",
   "nbconvert_exporter": "python",
   "pygments_lexer": "ipython3",
   "version": "3.11.11"
  }
 },
 "nbformat": 4,
 "nbformat_minor": 2
}
