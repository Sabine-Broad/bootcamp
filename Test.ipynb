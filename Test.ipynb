{
 "cells": [
  {
   "cell_type": "code",
   "execution_count": 1,
   "metadata": {},
   "outputs": [
    {
     "name": "stdout",
     "output_type": "stream",
     "text": [
      "hello\n"
     ]
    }
   ],
   "source": [
    "print(\"hello\")"
   ]
  },
  {
   "cell_type": "code",
   "execution_count": 1,
   "metadata": {},
   "outputs": [
    {
     "name": "stdout",
     "output_type": "stream",
     "text": [
      "Current tally: 0\n",
      "Next tally increment:  5\n",
      "final tally 5\n",
      "Current tally: 5\n",
      "Next tally increment:  1\n",
      "final tally 6\n",
      "Current tally: 6\n",
      "Next tally increment:  4\n",
      "final tally 10\n",
      "Current tally: 10\n",
      "Next tally increment:  0\n",
      "final tally 10\n",
      "Current tally: 10\n",
      "Next tally increment:  0\n",
      "final tally 10\n",
      "Current tally: 10\n",
      "Next tally increment:  0\n",
      "final tally 10\n",
      "Current tally: 10\n",
      "Next tally increment:  5\n",
      "final tally 15\n",
      "Current tally: 15\n",
      "Next tally increment:  5\n",
      "final tally 20\n",
      "Current tally: 20\n",
      "Next tally increment:  3\n",
      "final tally 23\n",
      "Current tally: 23\n",
      "Next tally increment:  5\n",
      "final tally 28\n",
      "Current tally: 28\n",
      "Next tally increment:  0\n",
      "final tally 28\n",
      "Current tally: 28\n",
      "Next tally increment:  1\n",
      "final tally 29\n",
      "Current tally: 29\n",
      "Next tally increment:  1\n",
      "final tally 30\n",
      "Current tally: 30\n",
      "Next tally increment:  2\n",
      "final tally 32\n",
      "Current tally: 32\n",
      "Next tally increment:  5\n",
      "final tally 37\n",
      "Current tally: 37\n",
      "Next tally increment:  0\n",
      "final tally 37\n",
      "Current tally: 37\n",
      "Next tally increment:  4\n",
      "final tally 41\n",
      "Current tally: 41\n",
      "Next tally increment:  3\n",
      "final tally 44\n",
      "Current tally: 44\n",
      "Next tally increment:  4\n",
      "final tally 48\n",
      "Current tally: 48\n",
      "Next tally increment:  4\n",
      "final tally 52\n"
     ]
    }
   ],
   "source": [
    "#\"while\" loops allow for additional flexibility \n",
    "\n",
    "import random\n",
    "tally = 0\n",
    "\n",
    "while tally <50:\n",
    "    print(\"Current tally:\", tally)\n",
    "    increment = random.randint(0,5)\n",
    "    print(\"Next tally increment: \", increment)\n",
    "    tally +=increment\n",
    "\n",
    "    print(\"final tally\", tally)\n",
    "    \n",
    "    "
   ]
  },
  {
   "cell_type": "code",
   "execution_count": 4,
   "metadata": {},
   "outputs": [
    {
     "name": "stdout",
     "output_type": "stream",
     "text": [
      "Help on method randint in module random:\n",
      "\n",
      "randint(a, b) method of random.Random instance\n",
      "    Return random integer in range [a, b], including both end points.\n",
      "\n"
     ]
    }
   ],
   "source": [
    "help(random.randint)"
   ]
  },
  {
   "cell_type": "markdown",
   "metadata": {},
   "source": [
    "#numericlal datatypes or other packages"
   ]
  },
  {
   "cell_type": "code",
   "execution_count": 8,
   "metadata": {},
   "outputs": [
    {
     "name": "stdout",
     "output_type": "stream",
     "text": [
      "this is a  <class 'int'> with value 5\n",
      "this is a  <class 'float'> with value 5.0\n"
     ]
    }
   ],
   "source": [
    "#numbers\n",
    "my_int=5\n",
    "my_float=5.0\n",
    "print('this is a ', type(my_int), \"with value\", my_int)\n",
    "print('this is a ', type(my_float), \"with value\", my_float)"
   ]
  },
  {
   "cell_type": "code",
   "execution_count": 10,
   "metadata": {},
   "outputs": [
    {
     "name": "stdout",
     "output_type": "stream",
     "text": [
      "['a', 1, 0.3, None, ['a', 'b']]\n"
     ]
    }
   ],
   "source": [
    "#lists\n",
    "l=['a',1,0.3,None, ['a','b']]\n",
    "print(l)"
   ]
  },
  {
   "cell_type": "code",
   "execution_count": 13,
   "metadata": {},
   "outputs": [
    {
     "name": "stdout",
     "output_type": "stream",
     "text": [
      "0\n"
     ]
    }
   ],
   "source": [
    "#python indexing \n",
    "nums = list(range(50))\n",
    "print(nums[0])"
   ]
  },
  {
   "cell_type": "code",
   "execution_count": 15,
   "metadata": {},
   "outputs": [
    {
     "name": "stdout",
     "output_type": "stream",
     "text": [
      "[[4, 5, 6], [7, 8, 9]]\n"
     ]
    }
   ],
   "source": [
    "#list nests in obvious way\n",
    "nested_list=[[1,2,3], [4,5,6], [7,8,9], [10,11,12]]\n",
    "print(nested_list[1:3])"
   ]
  },
  {
   "cell_type": "code",
   "execution_count": 16,
   "metadata": {},
   "outputs": [
    {
     "name": "stdout",
     "output_type": "stream",
     "text": [
      "[10, 11, 12]\n"
     ]
    }
   ],
   "source": [
    "print(nested_list[3])"
   ]
  },
  {
   "cell_type": "code",
   "execution_count": 17,
   "metadata": {},
   "outputs": [
    {
     "name": "stdout",
     "output_type": "stream",
     "text": [
      "11\n"
     ]
    }
   ],
   "source": [
    "print(nested_list[3][1])"
   ]
  },
  {
   "cell_type": "code",
   "execution_count": 18,
   "metadata": {},
   "outputs": [
    {
     "data": {
      "text/plain": [
       "[2, 5, 8, 11]"
      ]
     },
     "execution_count": 18,
     "metadata": {},
     "output_type": "execute_result"
    }
   ],
   "source": [
    "[l[1] for l in nested_list]"
   ]
  },
  {
   "cell_type": "code",
   "execution_count": 19,
   "metadata": {},
   "outputs": [
    {
     "name": "stdout",
     "output_type": "stream",
     "text": [
      "[0, 2, 4, 6, 8, 10, 12, 14, 16, 18]\n"
     ]
    }
   ],
   "source": [
    "print([i for i in range(20) if (i%2==0)])"
   ]
  },
  {
   "cell_type": "code",
   "execution_count": 20,
   "metadata": {},
   "outputs": [
    {
     "name": "stdout",
     "output_type": "stream",
     "text": [
      "[0, -1, 2, -3, 4, -5, 6, -7, 8, -9, 10, -11, 12, -13, 14, -15, 16, -17, 18, -19]\n"
     ]
    }
   ],
   "source": [
    "print([i if (i%2==0) else -i for i in range(20)])"
   ]
  },
  {
   "cell_type": "code",
   "execution_count": 21,
   "metadata": {},
   "outputs": [
    {
     "name": "stdout",
     "output_type": "stream",
     "text": [
      "[[1, 2, 3], [4, 5, 6], [7, 8, 9], [10, 11, 12]]\n",
      "[[1, 2, 3], [4, 5, 6], [7, 8, 9], 'oops']\n"
     ]
    }
   ],
   "source": [
    "print(nested_list)\n",
    "nested_list[-1]='oops'\n",
    "print(nested_list)"
   ]
  },
  {
   "cell_type": "markdown",
   "metadata": {},
   "source": [
    "#tupple example to use is \n",
    "#tupples or listss can be \"unenrolled\" with the star operator into function argumants\n",
    "#this can be used for example if you are generating a plot and want the plot to be fed different arguments"
   ]
  },
  {
   "cell_type": "code",
   "execution_count": 24,
   "metadata": {},
   "outputs": [
    {
     "name": "stdout",
     "output_type": "stream",
     "text": [
      "(0, 10, 2)\n"
     ]
    }
   ],
   "source": [
    "function_args = (0,10,2)\n",
    "print(function_args)"
   ]
  },
  {
   "cell_type": "code",
   "execution_count": 25,
   "metadata": {},
   "outputs": [
    {
     "name": "stdout",
     "output_type": "stream",
     "text": [
      "<class 'tuple'>\n"
     ]
    }
   ],
   "source": [
    "print(type(function_args))"
   ]
  },
  {
   "cell_type": "code",
   "execution_count": 26,
   "metadata": {},
   "outputs": [
    {
     "name": "stdout",
     "output_type": "stream",
     "text": [
      "[0, 2, 4, 6, 8]\n"
     ]
    }
   ],
   "source": [
    "print(list(range(*function_args)))"
   ]
  },
  {
   "cell_type": "code",
   "execution_count": 23,
   "metadata": {},
   "outputs": [
    {
     "name": "stdout",
     "output_type": "stream",
     "text": [
      "{(0, 0): 0, (0, 1): 0, (0, 2): 0, (0, 3): 0, (1, 0): 0, (1, 1): 1, (1, 2): 2, (1, 3): 3, (2, 0): 0, (2, 1): 2, (2, 2): 4, (2, 3): 6}\n"
     ]
    }
   ],
   "source": [
    "print({(a,b): a*b for a in range(3) for b in range(4)})"
   ]
  },
  {
   "cell_type": "code",
   "execution_count": null,
   "metadata": {},
   "outputs": [],
   "source": []
  }
 ],
 "metadata": {
  "kernelspec": {
   "display_name": "bootcamp",
   "language": "python",
   "name": "python3"
  },
  "language_info": {
   "codemirror_mode": {
    "name": "ipython",
    "version": 3
   },
   "file_extension": ".py",
   "mimetype": "text/x-python",
   "name": "python",
   "nbconvert_exporter": "python",
   "pygments_lexer": "ipython3",
   "version": "3.11.11"
  }
 },
 "nbformat": 4,
 "nbformat_minor": 2
}
